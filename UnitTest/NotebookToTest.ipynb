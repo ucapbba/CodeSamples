{
 "cells": [
  {
   "cell_type": "markdown",
   "id": "1ce43208",
   "metadata": {},
   "source": [
    "# Jupyter Notebook Example"
   ]
  },
  {
   "cell_type": "markdown",
   "id": "5c41a1b2",
   "metadata": {},
   "source": [
    "### Here we include the notebook directly into Sphinx using nbsphinx.  This comment and title appear in the contents / webpage"
   ]
  },
  {
   "cell_type": "code",
   "execution_count": 13,
   "id": "f954a51c",
   "metadata": {},
   "outputs": [
    {
     "data": {
      "text/plain": [
       "\"import pandoc\\nimport matplotlib.pyplot as plt\\n\\n# Data to display on the plot\\nx = [1, 2, 3]\\ny = [2, 4, 1]\\n\\n# Create the plot\\nplt.plot(x, y)\\nplt.xlabel('x-axis')\\nplt.ylabel('y-axis')\\nplt.title('My first graph!')\\n\\n# Display the plot\\nplt.show()\""
      ]
     },
     "execution_count": 13,
     "metadata": {},
     "output_type": "execute_result"
    }
   ],
   "source": [
    "'''import pandoc\n",
    "import matplotlib.pyplot as plt\n",
    "\n",
    "# Data to display on the plot\n",
    "x = [1, 2, 3]\n",
    "y = [2, 4, 1]\n",
    "\n",
    "# Create the plot\n",
    "plt.plot(x, y)\n",
    "plt.xlabel('x-axis')\n",
    "plt.ylabel('y-axis')\n",
    "plt.title('My first graph!')\n",
    "\n",
    "# Display the plot\n",
    "plt.show()'''"
   ]
  },
  {
   "cell_type": "code",
   "execution_count": 14,
   "id": "2292a595",
   "metadata": {},
   "outputs": [
    {
     "name": "stdout",
     "output_type": "stream",
     "text": [
      "C:\\Users\\baugstein\n"
     ]
    }
   ],
   "source": [
    "import os\n",
    "print(os.getcwd())"
   ]
  },
  {
   "cell_type": "code",
   "execution_count": 3,
   "id": "90bb750c",
   "metadata": {},
   "outputs": [],
   "source": [
    "import urllib.request\n",
    "from tqdm import tqdm\n",
    "# Define a progress bar function\n",
    "class DownloadProgressBar(tqdm):\n",
    "    def update_to(self, b=1, bsize=1, tsize=None):\n",
    "        if tsize is not None:\n",
    "            self.total = tsize\n",
    "        self.update(b * bsize - self.n)"
   ]
  },
  {
   "cell_type": "code",
   "execution_count": 12,
   "id": "747c02f6",
   "metadata": {},
   "outputs": [
    {
     "name": "stdout",
     "output_type": "stream",
     "text": [
      "Could not find cached data\n"
     ]
    },
    {
     "name": "stderr",
     "output_type": "stream",
     "text": [
      "testfile.txt: 16.4kB [00:00, 35.8kB/s]                            \n"
     ]
    }
   ],
   "source": [
    "data_path = \"testfile.txt\"\n",
    "if not os.path.exists(data_path):\n",
    "    print(\"Could not find cached data - downloading ...............\")\n",
    "    url = \"https://www.w3.org/WAI/ER/tests/xhtml/testfiles/resources/pdf/dummy.pdf\"\n",
    "    with DownloadProgressBar(unit='B', unit_scale=True, miniters=1, desc=data_path) as t:\n",
    "        urllib.request.urlretrieve(url, data_path, reporthook=t.update_to)\n",
    "else:\n",
    "    print(\"Data is already cached.\")"
   ]
  },
  {
   "cell_type": "code",
   "execution_count": null,
   "id": "94ac107d",
   "metadata": {},
   "outputs": [],
   "source": []
  }
 ],
 "metadata": {
  "kernelspec": {
   "display_name": "Python 3 (ipykernel)",
   "language": "python",
   "name": "python3"
  },
  "language_info": {
   "codemirror_mode": {
    "name": "ipython",
    "version": 3
   },
   "file_extension": ".py",
   "mimetype": "text/x-python",
   "name": "python",
   "nbconvert_exporter": "python",
   "pygments_lexer": "ipython3",
   "version": "3.11.5"
  }
 },
 "nbformat": 4,
 "nbformat_minor": 5
}
